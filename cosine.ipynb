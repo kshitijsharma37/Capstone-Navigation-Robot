{
 "cells": [
  {
   "cell_type": "code",
   "execution_count": 2,
   "metadata": {},
   "outputs": [],
   "source": [
    "import pandas as pd\n",
    "from sklearn.linear_model import LogisticRegression\n",
    "from sklearn.feature_extraction.text import CountVectorizer\n",
    "from sklearn.feature_extraction.text import TfidfVectorizer\n",
    "import re\n",
    "import pickle\n",
    "from numpy import dot\n",
    "from numpy.linalg import norm"
   ]
  },
  {
   "cell_type": "code",
   "execution_count": 7,
   "metadata": {},
   "outputs": [],
   "source": [
    "domain_stop_word = [\"patient\", \"may\", \"disease\", \"cause\", \"treatment\", \"also\", \"symptom\", \"usually\", \"sign\",\n",
    "                \"diagnosis\", \"result\", \"pain\", \"include\", \"pressure\", \"lung\", \"pulmonary\", \"respiratory\",\n",
    "                \"chest\", \"fluid\", \"complication\", \"change\", \"blood\", \"infection\", \"therapy\", \"prevent\",\n",
    "                \"acute\", \"care\", \"child\", \"level\", \"air\", \"use\", \"severe\", \"help\", \"used\", \"exercise\",\n",
    "                \"normal\", \"incidence\", \"pneumonia\",\"tissue\", \"show\", \"chronic\", \"failure\", \"cast\", \"increased\",\n",
    "                \"monitor\", \"hypoxemia\", \"produce\", \"edema\", \"increase\", \"space\", \"occurs\", \"cough\", \"alveolar\", \n",
    "                \"heart\", \"pathophysiology\", \"sputum\", \"provide\", \"decreased\", \"pneumothorax\", \"test\", \"special\",\n",
    "                \"tube\", \"condition\", \"common\", \"surgery\",\"secretion\", \"fibrosis\", \"disorder\", \"pa\", \"area\", \"form\",\n",
    "                \"cell\", \"skin\", \"drainage\", \"tb\", \"year\", \"commonly\", \"check\", \"teach\", \"rest\", \"watch\", \"encourage\", \n",
    "                \"underlying\", \"consideration\", \"et\", \"early\", \"hour\", \"family\", \"need\", \"effusion\", \"body\", \"drug\", \"support\", \n",
    "                \"rate\", \"syndrome\", \"requires\", \"inflammation\", \"abg\", \"side\", \"infant\", \"however\", \"upper\", \"cor\", \"pulmonale\",\n",
    "                 \"ventilator\", \"mechanical\", \"breath\", \"maintain\" , \"foot\", \"day\", \"bed\", \"parent\", \"especially\", \"fever\", \"culture\",\n",
    "                'system', 'within', 'factor', 'amount', 'death', 'movement', 'progress', 'volume', 'one', 'stage', 'report',\n",
    "                'avoid', 'respiration', 'trauma', 'occur', 'atelectasis', 'hand', 'includes', 'weight', 'tendon', 'hypertension', \n",
    "                'le', 'time', 'lead', 'damage', 'causing', 'require', 'activity', 'injury', 'risk', 'mm', 'measure', 'examination',\n",
    "                'nerve', 'stress', 'make', 'al', 'see', 'decrease', 'age', 'hg''case', 'month', 'coughing', 'develops', 'formation', \n",
    "                'without', 'site', 'every', 'reduce', 'relieve', 'effect','percussion', 'ordered', 'develop', 'affect', 'loss', 'flow',\n",
    "                'lesion', 'technique', 'exposure', 'gas', 'finding', 'procedure', 'begin', 'wall', 'immediately', 'type', 'response', \n",
    "                'position', 'needed', 'administer', 'control', 'ass', 'increasing', 'although', 'tell', 'output', 'give', 'analysis',\n",
    "                'history', 'often' ,'week', 'home', 'perform','function', 'typically', 'frequently', 'adult', 'indicate', 'administration',\n",
    "                'explain', 'using', 'suggest', 'called', 'center', 'head', 'people', 'resulting', 'including', 'period', 'feature'\n",
    "                   ]"
   ]
  },
  {
   "cell_type": "code",
   "execution_count": 6,
   "metadata": {},
   "outputs": [
    {
     "name": "stdout",
     "output_type": "stream",
     "text": [
      "                                         Description  \\\n",
      "0  Heart, chest pain, shortness of breath, fatigu...   \n",
      "1  Respiratory system, lungs, breathing difficult...   \n",
      "2  Neurological system, brain, spinal cord, nerve...   \n",
      "3  Gastrointestinal system, stomach, intestines, ...   \n",
      "4  Liver, bile ducts, gallbladder, hepatobiliary ...   \n",
      "\n",
      "                       D_Name  \n",
      "0              Cardiovascular  \n",
      "1         Respiratory_Disease  \n",
      "2         Neurologic_Disorder  \n",
      "3  Gastrointestinal_Disorders  \n",
      "4     Hepatobiliary_Disorders  \n"
     ]
    }
   ],
   "source": [
    "# read data file\n",
    "file_path = 'diseases_with_description.csv'\n",
    "df = pd.read_csv(file_path)\n",
    "print(df.head())"
   ]
  },
  {
   "cell_type": "code",
   "execution_count": 9,
   "metadata": {},
   "outputs": [
    {
     "data": {
      "text/html": [
       "<div>\n",
       "<style scoped>\n",
       "    .dataframe tbody tr th:only-of-type {\n",
       "        vertical-align: middle;\n",
       "    }\n",
       "\n",
       "    .dataframe tbody tr th {\n",
       "        vertical-align: top;\n",
       "    }\n",
       "\n",
       "    .dataframe thead th {\n",
       "        text-align: right;\n",
       "    }\n",
       "</style>\n",
       "<table border=\"1\" class=\"dataframe\">\n",
       "  <thead>\n",
       "    <tr style=\"text-align: right;\">\n",
       "      <th></th>\n",
       "      <th>Description</th>\n",
       "      <th>D_Name</th>\n",
       "    </tr>\n",
       "  </thead>\n",
       "  <tbody>\n",
       "    <tr>\n",
       "      <th>0</th>\n",
       "      <td>shortness fatigue palpitations high cholestero...</td>\n",
       "      <td>Cardiovascular</td>\n",
       "    </tr>\n",
       "    <tr>\n",
       "      <th>1</th>\n",
       "      <td>lungs breathing difficulties shortness congest...</td>\n",
       "      <td>Respiratory_Disease</td>\n",
       "    </tr>\n",
       "    <tr>\n",
       "      <th>2</th>\n",
       "      <td>neurological brain spinal cord nerves nervous ...</td>\n",
       "      <td>Neurologic_Disorder</td>\n",
       "    </tr>\n",
       "    <tr>\n",
       "      <th>3</th>\n",
       "      <td>gastrointestinal stomach intestines digestive ...</td>\n",
       "      <td>Gastrointestinal_Disorders</td>\n",
       "    </tr>\n",
       "    <tr>\n",
       "      <th>4</th>\n",
       "      <td>liver bile ducts gallbladder hepatobiliary hep...</td>\n",
       "      <td>Hepatobiliary_Disorders</td>\n",
       "    </tr>\n",
       "  </tbody>\n",
       "</table>\n",
       "</div>"
      ],
      "text/plain": [
       "                                         Description  \\\n",
       "0  shortness fatigue palpitations high cholestero...   \n",
       "1  lungs breathing difficulties shortness congest...   \n",
       "2  neurological brain spinal cord nerves nervous ...   \n",
       "3  gastrointestinal stomach intestines digestive ...   \n",
       "4  liver bile ducts gallbladder hepatobiliary hep...   \n",
       "\n",
       "                       D_Name  \n",
       "0              Cardiovascular  \n",
       "1         Respiratory_Disease  \n",
       "2         Neurologic_Disorder  \n",
       "3  Gastrointestinal_Disorders  \n",
       "4     Hepatobiliary_Disorders  "
      ]
     },
     "execution_count": 9,
     "metadata": {},
     "output_type": "execute_result"
    }
   ],
   "source": [
    "from nltk.corpus import stopwords\n",
    "from nltk.tokenize import word_tokenize\n",
    "\n",
    "# example_sent = \"\"\"This is a sample sentence,\n",
    "# \t\t\t\tshowing off the stop words filtration.\"\"\"\n",
    "\n",
    "stop_words = set(stopwords.words('english'))\n",
    "\n",
    "# word_tokens = word_tokenize(example_sent)\n",
    "# # converts the words in word_tokens to lower case and then checks whether\n",
    "# #they are present in stop_words or not\n",
    "# filtered_sentence = [w for w in word_tokens if not w.lower() in stop_words]\n",
    "# #with no lower case conversion\n",
    "# filtered_sentence = []\n",
    "\n",
    "# for w in word_tokens:\n",
    "# \tif w not in stop_words:\n",
    "# \t\tfiltered_sentence.append(w)\n",
    "\n",
    "# print(word_tokens)\n",
    "# print(filtered_sentence)\n",
    "\n",
    "def clean_text_func(text):\n",
    "    \n",
    "    \"\"\" this function clean & pre-process the data  \"\"\"\n",
    "\n",
    "    text = str(text)\n",
    "    text = text.lower()\n",
    "    # Clean the text\n",
    "    text = re.sub(r\"[^A-Za-z0-9^,!?.\\/'+]\", \" \", text)\n",
    "    text = re.sub(r\"\\+\", \" \", text)\n",
    "    text = re.sub(r\",\", \" \", text)\n",
    "    text = re.sub(r\"\\.\", \" \", text)\n",
    "    text = re.sub(r\"!\", \" \", text)\n",
    "    text = re.sub(r\"\\?\", \" \", text)\n",
    "    text = re.sub(r\"'\", \" \", text)\n",
    "    text = re.sub(r\":\", \" : \", text)\n",
    "    text = re.sub(r\"\\s{2,}\", \" \", text)\n",
    "    text = re.sub(r\"[0-9]\", \" \", text)\n",
    "    final_text = \"\"\n",
    "    for x in text.split():\n",
    "        if x not in domain_stop_word and x not in stop_words:\n",
    "            final_text = final_text + x  +\" \"\n",
    "    return final_text\n",
    "\n",
    "df['Description'] = df['Description'].apply(lambda x: clean_text_func(x))\n",
    "df.head()"
   ]
  },
  {
   "cell_type": "markdown",
   "metadata": {},
   "source": [
    "## Words Embedding"
   ]
  },
  {
   "cell_type": "code",
   "execution_count": 10,
   "metadata": {},
   "outputs": [],
   "source": [
    "cv = CountVectorizer(stop_words=\"english\")\n",
    "cv_tfidf = TfidfVectorizer(stop_words=\"english\")\n",
    "\n",
    "X = cv.fit_transform(list(df.loc[:, 'Description' ]))\n",
    "X_tfidf = cv_tfidf.fit_transform(list(df.loc[:, 'Description' ]))"
   ]
  },
  {
   "cell_type": "code",
   "execution_count": 11,
   "metadata": {},
   "outputs": [],
   "source": [
    "df_cv = pd.DataFrame(X.toarray() , columns=cv.get_feature_names_out())\n",
    "df_tfidf = pd.DataFrame(X_tfidf.toarray() , columns=cv_tfidf.get_feature_names_out())"
   ]
  },
  {
   "cell_type": "code",
   "execution_count": 12,
   "metadata": {},
   "outputs": [
    {
     "name": "stdout",
     "output_type": "stream",
     "text": [
      "(14, 849)\n"
     ]
    }
   ],
   "source": [
    "print(df_cv.shape)\n",
    "cosine = lambda v1 , v2 : dot(v1 , v2) / (norm(v1) * norm(v2))"
   ]
  },
  {
   "cell_type": "markdown",
   "metadata": {},
   "source": [
    "## Cosine Similarity"
   ]
  },
  {
   "cell_type": "code",
   "execution_count": 13,
   "metadata": {},
   "outputs": [
    {
     "name": "stdout",
     "output_type": "stream",
     "text": [
      "ENT_Disorders\n",
      "ENT_Disorders\n",
      "Respiratory_Disease\n",
      "ENT_Disorders\n",
      "Skin_Disorders\n",
      "Cardiovascular\n",
      "Cardiovascular\n"
     ]
    },
    {
     "name": "stderr",
     "output_type": "stream",
     "text": [
      "C:\\Users\\Dell\\AppData\\Local\\Temp\\ipykernel_14208\\111292177.py:2: RuntimeWarning: invalid value encountered in double_scalars\n",
      "  cosine = lambda v1 , v2 : dot(v1 , v2) / (norm(v1) * norm(v2))\n"
     ]
    }
   ],
   "source": [
    "new_text = [\"dizziness loss of balance  vomiting tinnitus of hearing in the high frequency range in one ear difficulty focusing your eyes \"]\n",
    "def finder(new_text):\n",
    "    new_text_cv = cv.transform(new_text).toarray()[0]\n",
    "    new_text_tfidf = cv_tfidf.transform(new_text).toarray()[0]\n",
    "    ans = 0\n",
    "    maxxer = float('-inf')\n",
    "    for chpter_number in range(int(df.shape[0])):\n",
    "\n",
    "        # print(f\"This is chpter number : {chpter_number} \")\n",
    "        if cosine( df_cv.iloc[chpter_number]  , new_text_cv ) > maxxer:\n",
    "            ans = chpter_number\n",
    "            maxxer = cosine( df_cv.iloc[chpter_number]  , new_text_cv )\n",
    "        \n",
    "        # print(f\"Cosin cv :    { cosine( df_cv.iloc[chpter_number]  , new_text_cv )} \")\n",
    "        # print(f\"Cosin TFIDF : { cosine( df_tfidf.iloc[chpter_number]  , new_text_tfidf) } \")\n",
    "    for index in df.index:\n",
    "        if index == ans:\n",
    "            print(df['D_Name'][index])\n",
    "finder(new_text)\n",
    "finder([\"Difficulty sleeping or staying asleep Fever Fluid draining from ear  Loss of balance. Hearing difficulties. Ear pain\"])\n",
    "finder([\"Difficulty breathing, fever, shortness in breath\"])\n",
    "finder([\"Persistent cough, sore throat, runny nose, fatigue, low-grade fever, chest congestion, difficulty breathing\"])\n",
    "finder([\"itching, blisters, rashes\"])\n",
    "finder([\"feeling pain in left side of chest\"])\n",
    "finder([\"I feel nauseated\"])"
   ]
  }
 ],
 "metadata": {
  "kernelspec": {
   "display_name": "Python 3",
   "language": "python",
   "name": "python3"
  },
  "language_info": {
   "codemirror_mode": {
    "name": "ipython",
    "version": 3
   },
   "file_extension": ".py",
   "mimetype": "text/x-python",
   "name": "python",
   "nbconvert_exporter": "python",
   "pygments_lexer": "ipython3",
   "version": "3.8.10"
  },
  "orig_nbformat": 4
 },
 "nbformat": 4,
 "nbformat_minor": 2
}
